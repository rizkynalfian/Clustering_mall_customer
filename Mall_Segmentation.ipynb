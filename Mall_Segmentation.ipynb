{
  "nbformat": 4,
  "nbformat_minor": 0,
  "metadata": {
    "colab": {
      "name": "Untitled5.ipynb",
      "provenance": [],
      "private_outputs": true,
      "authorship_tag": "ABX9TyP8CGxjfNEokTyfPA9mdXLF",
      "include_colab_link": true
    },
    "kernelspec": {
      "name": "python3",
      "display_name": "Python 3"
    }
  },
  "cells": [
    {
      "cell_type": "markdown",
      "metadata": {
        "id": "view-in-github",
        "colab_type": "text"
      },
      "source": [
        "<a href=\"https://colab.research.google.com/github/rizkynalfian/Clustering_mall_customer/blob/main/Mall_Segmentation.ipynb\" target=\"_parent\"><img src=\"https://colab.research.google.com/assets/colab-badge.svg\" alt=\"Open In Colab\"/></a>"
      ]
    },
    {
      "cell_type": "markdown",
      "metadata": {
        "id": "IbACOQAerQMB"
      },
      "source": [
        "# **Clustering**\n",
        "Rizky Nur Alfian-DS0125\n",
        "\n",
        "Analisis cluster atau clustering adalah sebuah proses mengkategorikan data ke dalam beberapa kelompok/ cluster sehingga anggota kelompok dalam satu cluster memiliki nilai kemiripan lebih tinggi daripada kelompok lain.\n",
        "\n",
        "Di sini kami memodelkan pengelompokan Mall Customer Segmentation data. Kami menggunakan model ini untuk melakukan segmentasi pelanggan. Kami membedakan pelanggan menjadi jumlah grup yang optimal."
      ]
    },
    {
      "cell_type": "markdown",
      "metadata": {
        "id": "4Y494IZAr8gD"
      },
      "source": [
        "# **Import Libraries and Dataset**"
      ]
    },
    {
      "cell_type": "code",
      "metadata": {
        "id": "hwe3tZSOTi6u"
      },
      "source": [
        "import numpy as np\n",
        "import pandas as pd\n",
        "import matplotlib.pyplot as plt\n",
        "import seaborn as sns\n",
        "\n",
        "from sklearn.preprocessing import StandardScaler\n",
        "from sklearn.metrics import silhouette_score\n",
        "from sklearn.cluster import KMeans\n",
        "from sklearn.cluster import AgglomerativeClustering"
      ],
      "execution_count": null,
      "outputs": []
    },
    {
      "cell_type": "code",
      "metadata": {
        "id": "aQuydrTbTx6G"
      },
      "source": [
        "# Import Dataset\n",
        "df = pd.read_csv ('https://raw.githubusercontent.com/rizkynalfian/Clustering_mall_customer/main/Mall_Customers.csv' , sep = ',')\n",
        "df_customer = df\n",
        "df.head()"
      ],
      "execution_count": null,
      "outputs": []
    },
    {
      "cell_type": "code",
      "metadata": {
        "id": "OMNiqnAcUQmN"
      },
      "source": [
        "# Prints the Dataset Information\n",
        "df_customer.info()"
      ],
      "execution_count": null,
      "outputs": []
    },
    {
      "cell_type": "markdown",
      "metadata": {
        "id": "bpqOCeRfszyK"
      },
      "source": [
        "# **Data Preprocessing**"
      ]
    },
    {
      "cell_type": "code",
      "metadata": {
        "id": "cqNXBjQXVBuP"
      },
      "source": [
        "# Prints Descriptive Statistics\n",
        "df_customer.describe().transpose()"
      ],
      "execution_count": null,
      "outputs": []
    },
    {
      "cell_type": "code",
      "metadata": {
        "id": "jYhBf0BgVG_c"
      },
      "source": [
        "# Prints Point Decriptive\n",
        "df.describe(include=['O'])"
      ],
      "execution_count": null,
      "outputs": []
    },
    {
      "cell_type": "markdown",
      "metadata": {
        "id": "whQpZtApt4hz"
      },
      "source": [
        "# **Distribusi Data**"
      ]
    },
    {
      "cell_type": "code",
      "metadata": {
        "id": "CI8jKuFXtkt0"
      },
      "source": [
        "fig = plt.figure(figsize = (16 , 6)) # create figure\n",
        "\n",
        "ax0 = fig.add_subplot(1, 3, 1)\n",
        "ax1 = fig.add_subplot(1, 3, 2) \n",
        "ax2 = fig.add_subplot(1, 3, 3)\n",
        "\n",
        "\n",
        "sns.distplot(df_customer['Age'] , bins = 20, ax=ax0)\n",
        "ax0.set_title(\"Distribusi Data 'Age'\")\n",
        "\n",
        "sns.distplot(df_customer['Annual Income (k$)'] , bins = 20, ax=ax1)\n",
        "ax1.set_title (\"Distribusi Data 'Annual Income (K$)'\")\n",
        "\n",
        "sns.distplot(df_customer['Spending Score (1-100)'] , bins = 20, ax=ax2)\n",
        "ax2.set_title (\"Distribusi Data 'Spending Score (1-100)'\")\n",
        "\n",
        "\n",
        "plt.show()"
      ],
      "execution_count": null,
      "outputs": []
    },
    {
      "cell_type": "code",
      "metadata": {
        "id": "6XaPFdacVjhS"
      },
      "source": [
        "# Pembagian data customer berdasarkan jenis kelamin\n",
        "labels = ['Perempuan', 'Laki-laki']\n",
        "size = df_customer['Gender'].value_counts()\n",
        "colors = ['pink', 'blue']\n",
        "explode = [0, 0.1]\n",
        "\n",
        "# Pie chart\n",
        "plt.rcParams['figure.figsize'] = (7, 7)\n",
        "plt.pie(size, colors = colors, explode = explode, labels = labels, shadow = True, autopct = '%.2f%%')\n",
        "plt.title('Jenis Kelamin', fontsize = 15)\n",
        "plt.axis('off')\n",
        "plt.legend()\n",
        "plt.show()"
      ],
      "execution_count": null,
      "outputs": []
    },
    {
      "cell_type": "markdown",
      "metadata": {
        "id": "gwX5dfHsuDHc"
      },
      "source": [
        "**Melihat korelasi fitur**"
      ]
    },
    {
      "cell_type": "code",
      "metadata": {
        "id": "OSVuvl7iX93n"
      },
      "source": [
        "# Melihat korelasi fitur dengan heatmap\n",
        "feature = df_customer.copy()\n",
        "feature = df_customer.drop(['CustomerID'], axis=1)\n",
        "df_customer.head()\n",
        "\n",
        "feature['Gender'] = feature['Gender'].replace(['Male','Female'],[1,0])\n",
        "correlation = feature.corr()\n",
        "f , ax = plt.subplots(figsize = (10,10))\n",
        "sns.heatmap(feature.corr(), annot=True).set_title('Korelasi Semua Fitur', size='16')"
      ],
      "execution_count": null,
      "outputs": []
    },
    {
      "cell_type": "markdown",
      "metadata": {
        "id": "2WheF50Oumne"
      },
      "source": [
        "Grafik di atas menampilkan korelasi antara semua fitur dari kumpulan data customer, diagram heatmap ini mencerminkan fitur yang paling berkorelasi dengan warna oranye dan fitur yang paling sedikit berkorelasi dengan warna kuning.\n",
        "\n",
        "Kami dapat melihat dengan jelas bahwa atribut ini tidak memiliki korelasi yang baik di antara mereka, oleh karena itu perlu dilanjutkan pencarian fitur yang memmiliki nilai korelasi yang paling tinggi."
      ]
    },
    {
      "cell_type": "code",
      "metadata": {
        "id": "IWadJTQmYsYo"
      },
      "source": [
        "x = df_customer['Annual Income (k$)']\n",
        "y = df_customer['Age']\n",
        "z = df_customer['Spending Score (1-100)']\n",
        "\n",
        "sns.lineplot(x, y, color = 'red')\n",
        "sns.lineplot(x, z, color = 'blue')\n",
        "plt.title('Income Pertahun vs Usia dan Spending Score', fontsize = 15)\n",
        "plt.show()"
      ],
      "execution_count": null,
      "outputs": []
    },
    {
      "cell_type": "markdown",
      "metadata": {
        "id": "FWhxHfFPus8C"
      },
      "source": [
        "Titik antara income tahunan dan usia di atas digambarkan dengan garis warna hijau, dan plot antara income tahunan dan spending score digambarkan dengan garis warna oranye.\n",
        "\n",
        "Grafik diatas menunjukkan bagaimana korealasi fitur usia dan pengeluaran bervariasi dengan income pertahun.\n",
        "\n",
        "## **Menentukan fitur untuk algoritma clustering.**\n",
        "\n",
        "Tidak semua fitur akan dimasukan ke dalam algoritma clustering, kali ini kita hanya menggunakan fitur pendapatan per tahun dan spending score.\n",
        "\n",
        "Pertama-tama kita harus definisikan dulu fitur ke dalam variabel baru."
      ]
    },
    {
      "cell_type": "code",
      "metadata": {
        "id": "8kSw0R0paQXO"
      },
      "source": [
        "f = feature[['Annual Income (k$)', 'Spending Score (1-100)']]\n",
        "f.head()"
      ],
      "execution_count": null,
      "outputs": []
    },
    {
      "cell_type": "markdown",
      "metadata": {
        "id": "IhMII9n-u5H0"
      },
      "source": [
        "# **Scaling Data**"
      ]
    },
    {
      "cell_type": "code",
      "metadata": {
        "id": "Qe1bYT9iajo_"
      },
      "source": [
        "# Melakukan penamaan untuk StandardScaler sebagai scaler\n",
        "scaler = StandardScaler() \n",
        "\n",
        "# Fit Standardization\n",
        "column_names = f.columns.tolist()\n",
        "f[column_names] = scaler.fit_transform(f[column_names])\n",
        "f.sort_index(inplace=True)\n",
        "f"
      ],
      "execution_count": null,
      "outputs": []
    },
    {
      "cell_type": "markdown",
      "metadata": {
        "id": "sfQvksPwbWC2"
      },
      "source": [
        "# **Visualisasi Model**\n",
        "melakukan pemodelan terhadap data"
      ]
    },
    {
      "cell_type": "code",
      "metadata": {
        "id": "uaUhlDtta1Lr"
      },
      "source": [
        "# Menentukan plot\n",
        "sns.set() \n",
        "plt.rcParams['figure.figsize'] = (16, 9)\n",
        "\n",
        "# Visualisasi data\n",
        "sns.scatterplot(x='Annual Income (k$)', y='Spending Score (1-100)', data= f)\n",
        "plt.title('Customer Segments')\n",
        "plt.xlabel('Income Pertahun')\n",
        "plt.ylabel('Spending Score')"
      ],
      "execution_count": null,
      "outputs": []
    },
    {
      "cell_type": "markdown",
      "metadata": {
        "id": "PdeUZAOAbpzl"
      },
      "source": [
        "# **K-Means Clustering Models**\n",
        "K-Mean clustering merupakan salah satu “unsupervised machine learning algorithms” yang paling sederhana dan populer .Tujuan dari algoritma ini adalah untuk menemukan grup dalam data, dengan jumlah grup yang diwakili oleh variabel K. Variabel K sendiri adalah jumlah cluster yang kita inginkan."
      ]
    },
    {
      "cell_type": "code",
      "metadata": {
        "id": "3cyDRwv0b0Wq"
      },
      "source": [
        "# Mengubah data frame menjadi numpy array\n",
        "nump = f.to_numpy()\n",
        "nump\n",
        "\n",
        "# Elbow Method\n",
        "from sklearn.cluster import KMeans\n",
        "wcss = []\n",
        "for i in range(1,11):\n",
        "    kmeans = KMeans(n_clusters=i, init='k-means++', max_iter=300, n_init=10, random_state=0)\n",
        "    kmeans.fit(nump)\n",
        "    wcss.append(kmeans.inertia_)\n",
        "  \n",
        "# Visualisasi \n",
        "plt.plot(range(1,11),wcss)\n",
        "plt.title('Elbow Method')\n",
        "plt.xlabel('Number of clusters')\n",
        "plt.ylabel('wcss')\n",
        "plt.show()"
      ],
      "execution_count": null,
      "outputs": []
    },
    {
      "cell_type": "code",
      "metadata": {
        "id": "zpe5yVJtb9NX"
      },
      "source": [
        "# Silhoutte method\n",
        "for n_cluster in range(2, 11):\n",
        "    kmeans = KMeans(n_clusters=n_cluster).fit(nump)\n",
        "    label = kmeans.labels_\n",
        "    sil_coeff = silhouette_score(nump, label, metric='euclidean')\n",
        "    print('For n_clusters={}, The Silhouette Coefficient is {}'.format(n_cluster, sil_coeff))"
      ],
      "execution_count": null,
      "outputs": []
    },
    {
      "cell_type": "markdown",
      "metadata": {
        "id": "OJpHTb1DcSHp"
      },
      "source": [
        "Dari haril elbow method dan silhouette method diatas diketaui bahwa nilai K yang terbaik adalah 5, (k=5)"
      ]
    },
    {
      "cell_type": "markdown",
      "metadata": {
        "id": "QEnqqfmycn5b"
      },
      "source": [
        "***Memodelkan K-Means Clustering***"
      ]
    },
    {
      "cell_type": "code",
      "metadata": {
        "id": "t4zaRRHWcr_u"
      },
      "source": [
        "# Aplikasikan K-Means ke dalam data\n",
        "kmeans = KMeans(n_clusters=5, init='k-means++', max_iter=300, n_init=10, random_state=0)\n",
        "cluster = kmeans.fit_predict(nump)\n",
        "\n",
        "# Visualisasi cluster untuk K=5\n",
        "sns.scatterplot(x='Annual Income (k$)', y='Spending Score (1-100)', data= f)\n",
        "plt.scatter(nump[cluster == 0, 0], nump[cluster == 0, 1], s = 50, label = 'Cluster 1', c= 'red')\n",
        "plt.scatter(nump[cluster == 1, 0], nump[cluster == 1, 1], s = 50, label = 'Cluster 2', c= 'purple')\n",
        "plt.scatter(nump[cluster == 2, 0], nump[cluster == 2, 1], s = 50, label = 'Cluster 3', c= 'blue')\n",
        "plt.scatter(nump[cluster == 3, 0], nump[cluster == 3, 1], s = 50, label = 'Cluster 4', c= 'green')\n",
        "plt.scatter(nump[cluster == 4, 0], nump[cluster == 4, 1], s = 50, label = 'Cluster 5', c= 'orange')\n",
        "plt.scatter(kmeans.cluster_centers_[:,0], kmeans.cluster_centers_[:,1],s=200,marker='+', alpha=0.5, label='Centroids', c= 'black')\n",
        "plt.title('Customer segments')\n",
        "plt.xlabel('Annual Score')\n",
        "\n",
        "plt.show()"
      ],
      "execution_count": null,
      "outputs": []
    },
    {
      "cell_type": "markdown",
      "metadata": {
        "id": "lEwgLTKYnZR5"
      },
      "source": [
        "**Analisis Model**\n",
        "\n",
        "Dari hasil pemodelan K-Means diatas, kita dapat menyimpulkan bahwa secara keseluruhan, customer dapat dikelompokan menjadi 5 cluster yang masing-masing dibedakan dengan kelompok warna berbeda.\n",
        "\n",
        "1. Kelompok warna Ungu, memiliki tingkat pendapatan rendah dan tingkat pengeluaran tinggi. Dalam keadaan ini customer dapat di golongkan menjadi customer Sangat Boros.\n",
        "\n",
        "2. Kelompok warna Oranye, memiliki tingkat pendapatan rendah dan tingkat \n",
        "pengeluaran rendah. Dalam keadaan ini customer dapat di golongkan menjadi customer Hemat.\n",
        "\n",
        "3. Kelompok warna Biru, memiliki tingkat pendapatan menengah dan tingkat pengeluaran menengah. Dalam keadaan ini customer dapat di golongkan menjadi customer Menengah.\n",
        "\n",
        "4. Kelompok warna Hijau, memiliki tingkat pendapatan tinggi dan tingkat pengeluaran tinggi. Dalam keadaan ini customer dapat di golongkan menjadi customer Boros.\n",
        "\n",
        "5. Kelompok warna merah, memiliki tingkat pendapatan tinggi dan tingkat pengeluaran rendah. Dalam keadaan ini customer dapat di golongkan menjadi customer Sangat Hemat."
      ]
    },
    {
      "cell_type": "markdown",
      "metadata": {
        "id": "Rv6-F9nHoPSl"
      },
      "source": [
        "**Mengaplikasikan Hasil ke Dalam Dataset**\n",
        "\n",
        "Dari Dataset awal kita bisa tambahkan pengelompokan customer ke dalam data frame baru, lalu menyimpannya sebagai dataset hasil."
      ]
    },
    {
      "cell_type": "code",
      "metadata": {
        "id": "2QjZ77DAo6Cs"
      },
      "source": [
        "# Menginput hasil clustering ke dataset\n",
        "df_customer['cluster'] = cluster\n",
        "df_customer['cluster'] = df_customer['cluster'].replace([0, 1, 2, 3, 4],['Sangat Hemat', 'Sangat Boros', 'Menengah', 'Boros', 'Hemat'])\n",
        "\n",
        "# Menyimpan dataset baru sebagai hasil\n",
        "df_customer.to_csv('_clusters.csv', index=False)\n",
        "\n",
        "# Menampilkan dataframe baru\n",
        "df_customer"
      ],
      "execution_count": null,
      "outputs": []
    },
    {
      "cell_type": "markdown",
      "metadata": {
        "id": "CMo_jB7Sp30H"
      },
      "source": [
        "**Hierarchical Clustering**\n",
        "Pengelompokan hierarki (juga disebut analisis klaster hierarki atau HCA) adalah metode analisis klaster yang berupaya membangun hierarki klaster. Endpoint adalah sekumpulan cluster, di mana setiap cluster berbeda satu sama lain, dan objek dalam setiap cluster secara luas mirip satu sama lain."
      ]
    },
    {
      "cell_type": "code",
      "metadata": {
        "id": "TuYagxV3qBWT"
      },
      "source": [
        "dendrogram = sch.dendrogram(sch.linkage(nump, method = 'ward'))\n",
        "plt.title('Dendrogam', fontsize = 15)\n",
        "plt.xlabel('Customers')\n",
        "plt.ylabel('Ecuclidean Distance')\n",
        "plt.show()"
      ],
      "execution_count": null,
      "outputs": []
    },
    {
      "cell_type": "markdown",
      "metadata": {
        "id": "STBN0_zzrGfC"
      },
      "source": [
        "**Visualisasi Cluster**"
      ]
    },
    {
      "cell_type": "code",
      "metadata": {
        "id": "pSD4WmA-qiNV"
      },
      "source": [
        "# Mengaplikasikan Hierarchial Clustering ke daaset\n",
        "hc = AgglomerativeClustering(n_clusters=5, affinity='euclidean', linkage='ward')\n",
        "hcluster = hc.fit_predict(nump)\n",
        "\n",
        "# Visualisasi Cluster untuk K=5\n",
        "sns.scatterplot(x='Annual Income (k$)', y='Spending Score (1-100)', data= f)\n",
        "plt.scatter(nump[cluster == 0, 0], nump[cluster == 0, 1], s = 50, label = 'Cluster 1', c= 'red')\n",
        "plt.scatter(nump[cluster == 1, 0], nump[cluster == 1, 1], s = 50, label = 'Cluster 2', c= 'purple')\n",
        "plt.scatter(nump[cluster == 2, 0], nump[cluster == 2, 1], s = 50, label = 'Cluster 3', c= 'blue')\n",
        "plt.scatter(nump[cluster == 3, 0], nump[cluster == 3, 1], s = 50, label = 'Cluster 4', c= 'green')\n",
        "plt.scatter(nump[cluster == 4, 0], nump[cluster == 4, 1], s = 50, label = 'Cluster 5', c= 'orange')\n",
        "plt.scatter(kmeans.cluster_centers_[:,0], kmeans.cluster_centers_[:,1],s=200,marker='+', alpha=0.5, label='Centroids', c= 'black')\n",
        "\n",
        "plt.style.use('fivethirtyeight')\n",
        "plt.title('Hierarchial Clustering', fontsize = 15)\n",
        "plt.xlabel('Annual Income')\n",
        "plt.ylabel('Spending Score')\n",
        "plt.legend()\n",
        "plt.grid()\n",
        "plt.show()"
      ],
      "execution_count": null,
      "outputs": []
    }
  ]
}